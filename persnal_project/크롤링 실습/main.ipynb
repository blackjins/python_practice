{
 "cells": [
  {
   "cell_type": "code",
   "execution_count": 4,
   "metadata": {},
   "outputs": [
    {
     "name": "stdout",
     "output_type": "stream",
     "text": [
      "\n"
     ]
    },
    {
     "name": "stderr",
     "output_type": "stream",
     "text": [
      "[WDM] - ====== WebDriver manager ======\n",
      "[WDM] - Current google-chrome version is 102.0.5005\n",
      "[WDM] - Get LATEST chromedriver version for 102.0.5005 google-chrome\n",
      "[WDM] - About to download new driver from https://chromedriver.storage.googleapis.com/102.0.5005.61/chromedriver_win32.zip\n",
      "[WDM] - Driver has been saved in cache [C:\\Users\\dndud\\.wdm\\drivers\\chromedriver\\win32\\102.0.5005.61]\n",
      "C:\\Users\\dndud\\AppData\\Local\\Temp\\ipykernel_24060\\50993259.py:4: DeprecationWarning: executable_path has been deprecated, please pass in a Service object\n",
      "  driver = webdriver.Chrome(ChromeDriverManager().install())\n"
     ]
    }
   ],
   "source": [
    "from webdriver_manager.chrome import ChromeDriverManager\n",
    "from selenium import webdriver\n",
    "\n",
    "driver = webdriver.Chrome(ChromeDriverManager().install())\n",
    "\n",
    "URL = \"https://www.google.co.kr/\"\n",
    "driver.get(url=URL)\n",
    "driver.implicitly_wait(time_to_wait=10)"
   ]
  },
  {
   "cell_type": "code",
   "execution_count": 6,
   "metadata": {},
   "outputs": [
    {
     "name": "stderr",
     "output_type": "stream",
     "text": [
      "C:\\Users\\dndud\\AppData\\Local\\Temp\\ipykernel_24060\\2149587221.py:3: DeprecationWarning: find_element_by_css_selector is deprecated. Please use find_element(by=By.CSS_SELECTOR, value=css_selector) instead\n",
      "  elem = driver.find_element_by_css_selector(\"body > div.L3eUgb > div.o3j99.ikrT4e.om7nvf > form > div:nth-child(1) > div.A8SBwf > div.RNNXgb > div > div.a4bIc > input\")\n"
     ]
    },
    {
     "ename": "NoSuchElementException",
     "evalue": "Message: no such element: Unable to locate element: {\"method\":\"css selector\",\"selector\":\"body > div.L3eUgb > div.o3j99.ikrT4e.om7nvf > form > div:nth-child(1) > div.A8SBwf > div.RNNXgb > div > div.a4bIc > input\"}\n  (Session info: chrome=102.0.5005.115)\nStacktrace:\nBacktrace:\n\tOrdinal0 [0x00B3D953+2414931]\n\tOrdinal0 [0x00ACF5E1+1963489]\n\tOrdinal0 [0x009BC6B8+837304]\n\tOrdinal0 [0x009E9500+1021184]\n\tOrdinal0 [0x009E979B+1021851]\n\tOrdinal0 [0x00A16502+1205506]\n\tOrdinal0 [0x00A044E4+1131748]\n\tOrdinal0 [0x00A14812+1198098]\n\tOrdinal0 [0x00A042B6+1131190]\n\tOrdinal0 [0x009DE860+976992]\n\tOrdinal0 [0x009DF756+980822]\n\tGetHandleVerifier [0x00DACC62+2510274]\n\tGetHandleVerifier [0x00D9F760+2455744]\n\tGetHandleVerifier [0x00BCEABA+551962]\n\tGetHandleVerifier [0x00BCD916+547446]\n\tOrdinal0 [0x00AD5F3B+1990459]\n\tOrdinal0 [0x00ADA898+2009240]\n\tOrdinal0 [0x00ADA985+2009477]\n\tOrdinal0 [0x00AE3AD1+2046673]\n\tBaseThreadInitThunk [0x75F9FA29+25]\n\tRtlGetAppContainerNamedObjectPath [0x77257A7E+286]\n\tRtlGetAppContainerNamedObjectPath [0x77257A4E+238]\n",
     "output_type": "error",
     "traceback": [
      "\u001b[1;31m---------------------------------------------------------------------------\u001b[0m",
      "\u001b[1;31mNoSuchElementException\u001b[0m                    Traceback (most recent call last)",
      "\u001b[1;32mc:\\Users\\dndud\\OneDrive\\바탕 화면\\project\\python_practice\\persnal_project\\main.ipynb Cell 2'\u001b[0m in \u001b[0;36m<cell line: 3>\u001b[1;34m()\u001b[0m\n\u001b[0;32m      <a href='vscode-notebook-cell:/c%3A/Users/dndud/OneDrive/%EB%B0%94%ED%83%95%20%ED%99%94%EB%A9%B4/project/python_practice/persnal_project/main.ipynb#ch0000001?line=0'>1</a>\u001b[0m \u001b[39mfrom\u001b[39;00m \u001b[39mselenium\u001b[39;00m\u001b[39m.\u001b[39;00m\u001b[39mwebdriver\u001b[39;00m\u001b[39m.\u001b[39;00m\u001b[39mcommon\u001b[39;00m\u001b[39m.\u001b[39;00m\u001b[39mkeys\u001b[39;00m \u001b[39mimport\u001b[39;00m Keys\n\u001b[1;32m----> <a href='vscode-notebook-cell:/c%3A/Users/dndud/OneDrive/%EB%B0%94%ED%83%95%20%ED%99%94%EB%A9%B4/project/python_practice/persnal_project/main.ipynb#ch0000001?line=2'>3</a>\u001b[0m elem \u001b[39m=\u001b[39m driver\u001b[39m.\u001b[39;49mfind_element_by_css_selector(\u001b[39m\"\u001b[39;49m\u001b[39mbody > div.L3eUgb > div.o3j99.ikrT4e.om7nvf > form > div:nth-child(1) > div.A8SBwf > div.RNNXgb > div > div.a4bIc > input\u001b[39;49m\u001b[39m\"\u001b[39;49m)\n\u001b[0;32m      <a href='vscode-notebook-cell:/c%3A/Users/dndud/OneDrive/%EB%B0%94%ED%83%95%20%ED%99%94%EB%A9%B4/project/python_practice/persnal_project/main.ipynb#ch0000001?line=3'>4</a>\u001b[0m \u001b[39m# selc = driver.find_elements_by_css_selector(\"#yDmH0d > div.T1diZc.KWE8qe > c-wiz > div.ndYZfc > div > div.tAcEof > div.O850f > div > div > span.rQEFy.NZmxZe\")\u001b[39;00m\n\u001b[0;32m      <a href='vscode-notebook-cell:/c%3A/Users/dndud/OneDrive/%EB%B0%94%ED%83%95%20%ED%99%94%EB%A9%B4/project/python_practice/persnal_project/main.ipynb#ch0000001?line=4'>5</a>\u001b[0m \u001b[39m#tsf > div:nth-child(1) > div.A8SBwf.emcav > div.RNNXgb > div > div.a4bIc > input\u001b[39;00m\n\u001b[0;32m      <a href='vscode-notebook-cell:/c%3A/Users/dndud/OneDrive/%EB%B0%94%ED%83%95%20%ED%99%94%EB%A9%B4/project/python_practice/persnal_project/main.ipynb#ch0000001?line=5'>6</a>\u001b[0m elem\u001b[39m.\u001b[39msend_keys(\u001b[39m\"\u001b[39m\u001b[39m바다\u001b[39m\u001b[39m\"\u001b[39m)\n",
      "File \u001b[1;32mc:\\Users\\dndud\\AppData\\Local\\Programs\\Python\\Python310\\lib\\site-packages\\selenium\\webdriver\\remote\\webdriver.py:814\u001b[0m, in \u001b[0;36mWebDriver.find_element_by_css_selector\u001b[1;34m(self, css_selector)\u001b[0m\n\u001b[0;32m    792\u001b[0m \u001b[39m\"\"\"\u001b[39;00m\n\u001b[0;32m    793\u001b[0m \u001b[39mFinds an element by css selector.\u001b[39;00m\n\u001b[0;32m    794\u001b[0m \n\u001b[1;32m   (...)\u001b[0m\n\u001b[0;32m    807\u001b[0m \u001b[39m        element = driver.find_element_by_css_selector('#foo')\u001b[39;00m\n\u001b[0;32m    808\u001b[0m \u001b[39m\"\"\"\u001b[39;00m\n\u001b[0;32m    809\u001b[0m warnings\u001b[39m.\u001b[39mwarn(\n\u001b[0;32m    810\u001b[0m     \u001b[39m\"\u001b[39m\u001b[39mfind_element_by_css_selector is deprecated. Please use find_element(by=By.CSS_SELECTOR, value=css_selector) instead\u001b[39m\u001b[39m\"\u001b[39m,\n\u001b[0;32m    811\u001b[0m     \u001b[39mDeprecationWarning\u001b[39;00m,\n\u001b[0;32m    812\u001b[0m     stacklevel\u001b[39m=\u001b[39m\u001b[39m2\u001b[39m,\n\u001b[0;32m    813\u001b[0m )\n\u001b[1;32m--> 814\u001b[0m \u001b[39mreturn\u001b[39;00m \u001b[39mself\u001b[39;49m\u001b[39m.\u001b[39;49mfind_element(by\u001b[39m=\u001b[39;49mBy\u001b[39m.\u001b[39;49mCSS_SELECTOR, value\u001b[39m=\u001b[39;49mcss_selector)\n",
      "File \u001b[1;32mc:\\Users\\dndud\\AppData\\Local\\Programs\\Python\\Python310\\lib\\site-packages\\selenium\\webdriver\\remote\\webdriver.py:1251\u001b[0m, in \u001b[0;36mWebDriver.find_element\u001b[1;34m(self, by, value)\u001b[0m\n\u001b[0;32m   1248\u001b[0m     by \u001b[39m=\u001b[39m By\u001b[39m.\u001b[39mCSS_SELECTOR\n\u001b[0;32m   1249\u001b[0m     value \u001b[39m=\u001b[39m \u001b[39m'\u001b[39m\u001b[39m[name=\u001b[39m\u001b[39m\"\u001b[39m\u001b[39m%s\u001b[39;00m\u001b[39m\"\u001b[39m\u001b[39m]\u001b[39m\u001b[39m'\u001b[39m \u001b[39m%\u001b[39m value\n\u001b[1;32m-> 1251\u001b[0m \u001b[39mreturn\u001b[39;00m \u001b[39mself\u001b[39;49m\u001b[39m.\u001b[39;49mexecute(Command\u001b[39m.\u001b[39;49mFIND_ELEMENT, {\n\u001b[0;32m   1252\u001b[0m     \u001b[39m'\u001b[39;49m\u001b[39musing\u001b[39;49m\u001b[39m'\u001b[39;49m: by,\n\u001b[0;32m   1253\u001b[0m     \u001b[39m'\u001b[39;49m\u001b[39mvalue\u001b[39;49m\u001b[39m'\u001b[39;49m: value})[\u001b[39m'\u001b[39m\u001b[39mvalue\u001b[39m\u001b[39m'\u001b[39m]\n",
      "File \u001b[1;32mc:\\Users\\dndud\\AppData\\Local\\Programs\\Python\\Python310\\lib\\site-packages\\selenium\\webdriver\\remote\\webdriver.py:430\u001b[0m, in \u001b[0;36mWebDriver.execute\u001b[1;34m(self, driver_command, params)\u001b[0m\n\u001b[0;32m    428\u001b[0m response \u001b[39m=\u001b[39m \u001b[39mself\u001b[39m\u001b[39m.\u001b[39mcommand_executor\u001b[39m.\u001b[39mexecute(driver_command, params)\n\u001b[0;32m    429\u001b[0m \u001b[39mif\u001b[39;00m response:\n\u001b[1;32m--> 430\u001b[0m     \u001b[39mself\u001b[39;49m\u001b[39m.\u001b[39;49merror_handler\u001b[39m.\u001b[39;49mcheck_response(response)\n\u001b[0;32m    431\u001b[0m     response[\u001b[39m'\u001b[39m\u001b[39mvalue\u001b[39m\u001b[39m'\u001b[39m] \u001b[39m=\u001b[39m \u001b[39mself\u001b[39m\u001b[39m.\u001b[39m_unwrap_value(\n\u001b[0;32m    432\u001b[0m         response\u001b[39m.\u001b[39mget(\u001b[39m'\u001b[39m\u001b[39mvalue\u001b[39m\u001b[39m'\u001b[39m, \u001b[39mNone\u001b[39;00m))\n\u001b[0;32m    433\u001b[0m     \u001b[39mreturn\u001b[39;00m response\n",
      "File \u001b[1;32mc:\\Users\\dndud\\AppData\\Local\\Programs\\Python\\Python310\\lib\\site-packages\\selenium\\webdriver\\remote\\errorhandler.py:247\u001b[0m, in \u001b[0;36mErrorHandler.check_response\u001b[1;34m(self, response)\u001b[0m\n\u001b[0;32m    245\u001b[0m         alert_text \u001b[39m=\u001b[39m value[\u001b[39m'\u001b[39m\u001b[39malert\u001b[39m\u001b[39m'\u001b[39m]\u001b[39m.\u001b[39mget(\u001b[39m'\u001b[39m\u001b[39mtext\u001b[39m\u001b[39m'\u001b[39m)\n\u001b[0;32m    246\u001b[0m     \u001b[39mraise\u001b[39;00m exception_class(message, screen, stacktrace, alert_text)  \u001b[39m# type: ignore[call-arg]  # mypy is not smart enough here\u001b[39;00m\n\u001b[1;32m--> 247\u001b[0m \u001b[39mraise\u001b[39;00m exception_class(message, screen, stacktrace)\n",
      "\u001b[1;31mNoSuchElementException\u001b[0m: Message: no such element: Unable to locate element: {\"method\":\"css selector\",\"selector\":\"body > div.L3eUgb > div.o3j99.ikrT4e.om7nvf > form > div:nth-child(1) > div.A8SBwf > div.RNNXgb > div > div.a4bIc > input\"}\n  (Session info: chrome=102.0.5005.115)\nStacktrace:\nBacktrace:\n\tOrdinal0 [0x00B3D953+2414931]\n\tOrdinal0 [0x00ACF5E1+1963489]\n\tOrdinal0 [0x009BC6B8+837304]\n\tOrdinal0 [0x009E9500+1021184]\n\tOrdinal0 [0x009E979B+1021851]\n\tOrdinal0 [0x00A16502+1205506]\n\tOrdinal0 [0x00A044E4+1131748]\n\tOrdinal0 [0x00A14812+1198098]\n\tOrdinal0 [0x00A042B6+1131190]\n\tOrdinal0 [0x009DE860+976992]\n\tOrdinal0 [0x009DF756+980822]\n\tGetHandleVerifier [0x00DACC62+2510274]\n\tGetHandleVerifier [0x00D9F760+2455744]\n\tGetHandleVerifier [0x00BCEABA+551962]\n\tGetHandleVerifier [0x00BCD916+547446]\n\tOrdinal0 [0x00AD5F3B+1990459]\n\tOrdinal0 [0x00ADA898+2009240]\n\tOrdinal0 [0x00ADA985+2009477]\n\tOrdinal0 [0x00AE3AD1+2046673]\n\tBaseThreadInitThunk [0x75F9FA29+25]\n\tRtlGetAppContainerNamedObjectPath [0x77257A7E+286]\n\tRtlGetAppContainerNamedObjectPath [0x77257A4E+238]\n"
     ]
    }
   ],
   "source": [
    "from selenium.webdriver.common.keys import Keys\n",
    "\n",
    "elem = driver.find_element_by_css_selector(\"body > div.L3eUgb > div.o3j99.ikrT4e.om7nvf > form > div:nth-child(1) > div.A8SBwf > div.RNNXgb > div > div.a4bIc > input\")\n",
    "# selc = driver.find_elements_by_css_selector(\"#yDmH0d > div.T1diZc.KWE8qe > c-wiz > div.ndYZfc > div > div.tAcEof > div.O850f > div > div > span.rQEFy.NZmxZe\")\n",
    "#tsf > div:nth-child(1) > div.A8SBwf.emcav > div.RNNXgb > div > div.a4bIc > input\n",
    "elem.send_keys(\"바다\")\n",
    "elem.send_keys(Keys.RETURN)\n",
    "# selc.click()"
   ]
  }
 ],
 "metadata": {
  "kernelspec": {
   "display_name": "Python 3.10.4 64-bit",
   "language": "python",
   "name": "python3"
  },
  "language_info": {
   "codemirror_mode": {
    "name": "ipython",
    "version": 3
   },
   "file_extension": ".py",
   "mimetype": "text/x-python",
   "name": "python",
   "nbconvert_exporter": "python",
   "pygments_lexer": "ipython3",
   "version": "3.10.4"
  },
  "orig_nbformat": 4,
  "vscode": {
   "interpreter": {
    "hash": "24e87d2a6acc7b5e839ef313bbadfb735456c069f495682e892837a26590face"
   }
  }
 },
 "nbformat": 4,
 "nbformat_minor": 2
}
